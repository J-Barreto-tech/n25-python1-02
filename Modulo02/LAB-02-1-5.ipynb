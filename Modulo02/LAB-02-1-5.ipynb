{
 "cells": [
  {
   "cell_type": "markdown",
   "metadata": {},
   "source": [
    "# Labortório 2-1-5"
   ]
  },
  {
   "cell_type": "code",
   "execution_count": 13,
   "metadata": {},
   "outputs": [
    {
     "name": "stdout",
     "output_type": "stream",
     "text": [
      "olá, Python!\n",
      "Jessé\n"
     ]
    }
   ],
   "source": [
    "print (\"olá, Python!\")\n",
    "\n",
    "print ('Jessé')\n"
   ]
  },
  {
   "cell_type": "markdown",
   "metadata": {},
   "source": [
    "### Continuando sobre o print\n"
   ]
  },
  {
   "cell_type": "code",
   "execution_count": 16,
   "metadata": {},
   "outputs": [
    {
     "name": "stdout",
     "output_type": "stream",
     "text": [
      "A pequenina aranha escalou a tromba d'água.\n",
      "\n",
      "Caiu a chuva e lavou a aranha.\n"
     ]
    }
   ],
   "source": [
    "print(\"A pequenina aranha escalou a tromba d'água.\")\n",
    "print()\n",
    "print(\"Caiu a chuva e lavou a aranha.\")"
   ]
  },
  {
   "cell_type": "code",
   "execution_count": 19,
   "metadata": {},
   "outputs": [
    {
     "name": "stdout",
     "output_type": "stream",
     "text": [
      "A aranha pequenininha\n",
      "subiu a tromba d'água.\n",
      "\n",
      "abaixo veio a chuva\n",
      "e lavou a aranha.\n"
     ]
    }
   ],
   "source": [
    "print(\"A aranha pequenininha\\nsubiu a tromba d'água.\")\n",
    "print()\n",
    "print(\"abaixo veio a chuva\\ne lavou a aranha.\")"
   ]
  },
  {
   "cell_type": "code",
   "execution_count": 34,
   "metadata": {},
   "outputs": [
    {
     "name": "stdout",
     "output_type": "stream",
     "text": [
      "\\\n",
      "1234\t5678\t90\n"
     ]
    }
   ],
   "source": [
    "print ('\\\\')\n",
    "print ('1234\\t5678\\t90')\n"
   ]
  },
  {
   "cell_type": "markdown",
   "metadata": {},
   "source": [
    "### Print varios Argumentos"
   ]
  },
  {
   "cell_type": "code",
   "execution_count": 49,
   "metadata": {},
   "outputs": [
    {
     "name": "stdout",
     "output_type": "stream",
     "text": [
      "Aranha pequenina subiu a tromba d'água.\n",
      "1 2 3\n"
     ]
    }
   ],
   "source": [
    "print (\"Aranha pequenina\" , \"subiu\" , \"a tromba d'água.\")\n",
    "print (\"1\" , \"2\" , \"3\")\n"
   ]
  },
  {
   "cell_type": "markdown",
   "metadata": {},
   "source": [
    "### Argumento Palavra chave ou nomeado  "
   ]
  },
  {
   "cell_type": "code",
   "execution_count": 46,
   "metadata": {},
   "outputs": [
    {
     "name": "stdout",
     "output_type": "stream",
     "text": [
      "Meu nome é Pyton. Monty Python\n"
     ]
    }
   ],
   "source": [
    "print ('Meu nome é','Pyton.', end=\" \")\n",
    "print ('Monty Python')"
   ]
  },
  {
   "cell_type": "code",
   "execution_count": 47,
   "metadata": {},
   "outputs": [
    {
     "name": "stdout",
     "output_type": "stream",
     "text": [
      "Meu_nome_é*Monty*Python.*\n"
     ]
    }
   ],
   "source": [
    "print(\"Meu\", \"nome\", \"é\", sep=\"_\", end=\"*\")\n",
    "print(\"Monty\", \"Python.\", sep=\"*\", end=\"*\\n\")"
   ]
  },
  {
   "cell_type": "markdown",
   "metadata": {},
   "source": [
    "## laboratorio 2-1-12\n",
    "#### Saida Esperada:\n",
    "Programação***Essenciais***em...Python"
   ]
  },
  {
   "cell_type": "code",
   "execution_count": 48,
   "metadata": {},
   "outputs": [
    {
     "name": "stdout",
     "output_type": "stream",
     "text": [
      "Programação***Essenciais***em...Python\n"
     ]
    }
   ],
   "source": [
    "print(\"Programação\",\"Essenciais\",\"em\", sep=\"***\", end=\"...\")\n",
    "print(\"Python\")"
   ]
  },
  {
   "cell_type": "code",
   "execution_count": 50,
   "metadata": {},
   "outputs": [
    {
     "ename": "SyntaxError",
     "evalue": "invalid syntax (448285481.py, line 2)",
     "output_type": "error",
     "traceback": [
      "  \u001b[36mCell\u001b[39m\u001b[36m \u001b[39m\u001b[32mIn[50]\u001b[39m\u001b[32m, line 2\u001b[39m\n\u001b[31m    \u001b[39m\u001b[31mprint (sep\"-\",\"argumento1\",\"argumento2\")\u001b[39m\n              ^\n\u001b[31mSyntaxError\u001b[39m\u001b[31m:\u001b[39m invalid syntax\n"
     ]
    }
   ],
   "source": [
    "# Isso eu não posso fazer\n",
    "print (sep\"-\",\"argumento1\",\"argumento2\")"
   ]
  },
  {
   "cell_type": "markdown",
   "metadata": {},
   "source": [
    "#### Laboratorio 2-1-13"
   ]
  },
  {
   "cell_type": "code",
   "execution_count": null,
   "metadata": {},
   "outputs": [
    {
     "name": "stdout",
     "output_type": "stream",
     "text": [
      "     *           *           *           *      \n",
      "    * *         * *         * *         * *     \n",
      "   *   *       *   *       *   *       *   *    \n",
      "  *     *     *     *     *     *     *     *   \n",
      " ***   ***   ***   ***   ***   ***   ***   ***  \n",
      "   *   *       *   *       *   *       *   *    \n",
      "   *   *       *   *       *   *       *   *    \n",
      "   *****       *****       *****       *****    \n"
     ]
    }
   ],
   "source": [
    "print(\"     *      \"*4)\n",
    "print(\"    * *     \"*4)\n",
    "print(\"   *   *    \"*4)\n",
    "print(\"  *     *   \"*4)\n",
    "print(\" ***   ***  \"*4)\n",
    "print(\"   *   *    \"*4)\n",
    "print(\"   *   *    \"*4)\n",
    "print(\"   *****    \"*4)"
   ]
  }
 ],
 "metadata": {
  "kernelspec": {
   "display_name": ".venv",
   "language": "python",
   "name": "python3"
  },
  "language_info": {
   "codemirror_mode": {
    "name": "ipython",
    "version": 3
   },
   "file_extension": ".py",
   "mimetype": "text/x-python",
   "name": "python",
   "nbconvert_exporter": "python",
   "pygments_lexer": "ipython3",
   "version": "3.13.2"
  }
 },
 "nbformat": 4,
 "nbformat_minor": 2
}
