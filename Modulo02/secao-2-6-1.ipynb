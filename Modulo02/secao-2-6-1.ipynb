{
 "cells": [
  {
   "cell_type": "markdown",
   "metadata": {},
   "source": [
    "#Interação com o Usuario\n",
    "### Função Input"
   ]
  },
  {
   "cell_type": "code",
   "execution_count": null,
   "metadata": {},
   "outputs": [
    {
     "name": "stdout",
     "output_type": "stream",
     "text": [
      "Digite sua idade:\n",
      "Você tem 28 anos\n"
     ]
    }
   ],
   "source": [
    "print(\"Digite sua idade:\")\n",
    "idade = input()\n",
    "print(\"Você tem \"+idade+\" anos\")"
   ]
  },
  {
   "cell_type": "code",
   "execution_count": null,
   "metadata": {},
   "outputs": [
    {
     "name": "stdout",
     "output_type": "stream",
     "text": [
      "Você tem 28 anos!\n",
      "<class 'str'>\n"
     ]
    }
   ],
   "source": [
    "idade = input (\"Digite sua idade: \") # passando a mensagem como argumento\n",
    "print(\"Você tem \"+idade+\" anos!\") # o +idade + só pode ser texto.\n",
    "print (type (idade)) # verifica o tipo da variavel idade.\n",
    "# resultado sempre string"
   ]
  },
  {
   "cell_type": "code",
   "execution_count": null,
   "metadata": {},
   "outputs": [
    {
     "name": "stdout",
     "output_type": "stream",
     "text": [
      "Você nasceu em 1997.\n",
      "Você nasceu em 1997.\n"
     ]
    }
   ],
   "source": [
    "# Isso não sera possivel fazer\n",
    "\n",
    "idade=  int(input(\"Digite sua idade: \"))# se não converter  usando o int, dá erro abaixo\n",
    "ano_nascimento = 2025 - idade #erro de tipo, idade é uma string e não pode ser subtraido de um int\n",
    "print(\"Você nasceu em \" + str(ano_nascimento) + \".\") # convertendo o ano para string\n",
    "print(\"Você nasceu em \"  ,ano_nascimento,\".\", sep=\"\") # usando argumentos do print e sep em espaço"
   ]
  },
  {
   "cell_type": "code",
   "execution_count": 30,
   "metadata": {},
   "outputs": [
    {
     "name": "stdout",
     "output_type": "stream",
     "text": [
      "A temperatura em Fahrenheit é: 41.0 F°\n"
     ]
    }
   ],
   "source": [
    "# Desenvolver um programa para solicita ro valor de uma temparatura \n",
    "# em °C e converte-la para Fahrenheit.\n",
    "# A fórmula de conversão é:\n",
    "# F = c * 9/5 +32\n",
    "\n",
    "celcius = float (input(\"Digite a temperatura em Celsius\"))\n",
    "fahrenheit = celcius *9/5 + 32\n",
    "print(\"A temperatura em Fahrenheit é: \",fahrenheit, \" F°\", sep=\"\")\n"
   ]
  },
  {
   "attachments": {
    "image.png": {
     "image/png": "[encoded data removed]"
    }
   },
   "cell_type": "markdown",
   "metadata": {},
   "source": [
    "# Laboratório 2.6.10\n",
    "\n",
    "![image.png](attachment:image.png)\n"
   ]
  },
  {
   "cell_type": "code",
   "execution_count": null,
   "metadata": {},
   "outputs": [
    {
     "name": "stdout",
     "output_type": "stream",
     "text": [
      "y = 0.6000000000000001\n"
     ]
    }
   ],
   "source": [
    "x = float(input(\"Digite o valor para x: \"))\n",
    "\n",
    "# Escreva seu código aqui.\n",
    "\n",
    "#y = 1 /(x + (1 / (x + (1 / (x + (1/x)))))) \n",
    "\n",
    "y = 1 /(x + 1 / (x + 1 / (x + 1/x)))\n",
    "\n",
    "print(\"y =\", y)\n"
   ]
  },
  {
   "cell_type": "markdown",
   "metadata": {},
   "source": [
    "# Labóratorio 2.6.11"
   ]
  },
  {
   "cell_type": "code",
   "execution_count": null,
   "metadata": {},
   "outputs": [
    {
     "name": "stdout",
     "output_type": "stream",
     "text": [
      "13:16\n"
     ]
    }
   ],
   "source": [
    "hour = int(input(\"Hora de início (horas): \"))\n",
    "mins = int(input(\"Hora de início (minutos): \"))\n",
    "dura = int(input(\"Duração do evento (minutos): \"))\n",
    "\n",
    "# Escreva seu código aqui.\n",
    "\n",
    "\n",
    "\n",
    "tempo_total =  hour *60 + mins + dura \n",
    "\n",
    "hora_final = tempo_total // 60 % 24\n",
    "minuto_final = tempo_total % 60\n",
    "\n",
    "#imprimir o resultado em horas e minutos\n",
    "\n",
    "print(hora_final, minuto_final, sep\":\")\n",
    "\n",
    "\n"
   ]
  }
 ],
 "metadata": {
  "kernelspec": {
   "display_name": ".venv",
   "language": "python",
   "name": "python3"
  },
  "language_info": {
   "codemirror_mode": {
    "name": "ipython",
    "version": 3
   },
   "file_extension": ".py",
   "mimetype": "text/x-python",
   "name": "python",
   "nbconvert_exporter": "python",
   "pygments_lexer": "ipython3",
   "version": "3.13.2"
  }
 },
 "nbformat": 4,
 "nbformat_minor": 2
}
