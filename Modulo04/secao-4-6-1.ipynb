{
 "cells": [
  {
   "cell_type": "markdown",
   "metadata": {},
   "source": [
    "# 4.6.1 - Tuplas e Dicionarios \n",
    "### Tuplas"
   ]
  },
  {
   "cell_type": "code",
   "execution_count": null,
   "metadata": {},
   "outputs": [
    {
     "name": "stdout",
     "output_type": "stream",
     "text": [
      "() (1, 2) (1, 2)\n",
      "(1,)\n"
     ]
    }
   ],
   "source": [
    "#Tupla não ´possivel alteração dos elementos\n",
    "# defindo uma tupla vazia \n",
    "tupla = ()\n",
    "# Definindo uma tupla com 2 elementos\n",
    "tupla_v1 = (1,2)\n",
    "tupla_v2 = 1,2\n",
    "print(tupla, tupla_v1, tupla_v2)\n",
    "#Definindo uma tupla com 1 elemento\n",
    "tupla_v3= (1,)\n",
    "print(tupla_v3)\n",
    "\n"
   ]
  },
  {
   "cell_type": "code",
   "execution_count": null,
   "metadata": {},
   "outputs": [
    {
     "name": "stdout",
     "output_type": "stream",
     "text": [
      "(1, 2, 3, 4, 5, 6, 7, 8)\n",
      "(2, 3, 4, 5, 6, 7)\n",
      "True\n",
      "False\n"
     ]
    }
   ],
   "source": [
    "#Operações com Tuplas \n",
    "\n",
    "tupla = (1,2,3,4,5)\n",
    "#tupla.append(5) # Isso não pode\n",
    "#tupla.insert(1,6) # Isso não pode tambem \n",
    "#del tupla[2] # Isso tambem não pode\n",
    "#tupla[4] = 10 # Isso tambem não é permintido \n",
    "\n",
    "tupla = tupla + (6,7,8) #isso é possivel\n",
    "print(tupla)\n",
    "print(tupla [1:-1]) # Fatiamento é possivel tambem\n",
    "print(6 in tupla)\n",
    "print(5 not in tupla) # \"not in\" pode\n",
    "\n"
   ]
  },
  {
   "cell_type": "markdown",
   "metadata": {},
   "source": [
    "### Dicionario "
   ]
  },
  {
   "cell_type": "code",
   "execution_count": 29,
   "metadata": {},
   "outputs": [
    {
     "name": "stdout",
     "output_type": "stream",
     "text": [
      "Jessé Barreto\n",
      "{'nome': 'Jessé Barreto', 'endereço': 'Rua das ruas, 15'}\n",
      "{'nome': 'Jessé Barreto', 'endereço': 'Rua das ruas, 15', 'telefone': '12345678900'}\n",
      "3\n",
      "True\n",
      "False\n",
      "dict_keys(['nome', 'endereço', 'telefone'])\n",
      "dict_values(['Jessé Barreto', 'Rua das ruas, 15', '12345678900'])\n",
      "dict_items([('nome', 'Jessé Barreto'), ('endereço', 'Rua das ruas, 15'), ('telefone', '12345678900')])\n",
      "nome, endereço, telefone, \n",
      "Jessé Barreto , Rua das ruas, 15 , 12345678900 , \n",
      "nome = Jessé Barreto ,endereço = Rua das ruas, 15 ,telefone = 12345678900 ,"
     ]
    }
   ],
   "source": [
    "dic = {\"nome\": \"Jessé Barreto\", \"endereço\": \"Rua das ruas, 15\"}\n",
    "print(dic[\"nome\"])\n",
    "print(dic)\n",
    "dic[\"telefone\"]= \"12345678900\"\n",
    "print(dic)\n",
    "print(len(dic))\n",
    "print(\"nome\" in dic)\n",
    "print(\"celular\" in dic)\n",
    "print(dic.keys())\n",
    "print(dic.values())\n",
    "print(dic.items())\n",
    "for el in dic.keys(): print(el,end=\", \")\n",
    "print()\n",
    "for el in dic.values(): print(el,end=\" , \")\n",
    "print()\n",
    "for ch,vl in dic.items(): print(ch,\"=\", vl, end= \" ,\")\n"
   ]
  },
  {
   "cell_type": "code",
   "execution_count": 30,
   "metadata": {},
   "outputs": [
    {
     "name": "stdout",
     "output_type": "stream",
     "text": [
      "{'nome': 'Jessé Barreto', 'endereço': 'Rua das ruas, 15'}\n"
     ]
    }
   ],
   "source": [
    "del dic[\"telefone\"]\n",
    "print(dic)"
   ]
  }
 ],
 "metadata": {
  "kernelspec": {
   "display_name": ".venv",
   "language": "python",
   "name": "python3"
  },
  "language_info": {
   "codemirror_mode": {
    "name": "ipython",
    "version": 3
   },
   "file_extension": ".py",
   "mimetype": "text/x-python",
   "name": "python",
   "nbconvert_exporter": "python",
   "pygments_lexer": "ipython3",
   "version": "3.13.2"
  }
 },
 "nbformat": 4,
 "nbformat_minor": 2
}
