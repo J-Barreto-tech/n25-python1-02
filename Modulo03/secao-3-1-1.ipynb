{
 "cells": [
  {
   "cell_type": "markdown",
   "metadata": {},
   "source": [
    "# Tomada de Decisão\n",
    "## Operações relacionais\n",
    "### Operador de igualdade ( == )"
   ]
  },
  {
   "cell_type": "code",
   "execution_count": 2,
   "metadata": {},
   "outputs": [
    {
     "name": "stdout",
     "output_type": "stream",
     "text": [
      "False\n",
      "True\n",
      "True\n",
      "True\n"
     ]
    }
   ],
   "source": [
    "print(1 == 2)\n",
    "print(1 == 1)\n",
    "print(1 == 1.0)\n",
    "print( 2 == 0b10) #binary 2"
   ]
  },
  {
   "cell_type": "markdown",
   "metadata": {},
   "source": [
    "### Operador de desigualdade ( != )"
   ]
  },
  {
   "cell_type": "code",
   "execution_count": null,
   "metadata": {},
   "outputs": [
    {
     "name": "stdout",
     "output_type": "stream",
     "text": [
      "True\n",
      "False\n",
      "False\n",
      "True\n"
     ]
    }
   ],
   "source": [
    "print( 1 != 2)\n",
    "print( 1 != 1)\n",
    "print( 1 != 1.0)\n",
    "print( 1 != 0b10) #binary"
   ]
  },
  {
   "cell_type": "markdown",
   "metadata": {},
   "source": [
    "### Operador Maior que ( > ) e maior Igual a ( >= )\n",
    "\n"
   ]
  },
  {
   "cell_type": "code",
   "execution_count": 4,
   "metadata": {},
   "outputs": [
    {
     "name": "stdout",
     "output_type": "stream",
     "text": [
      "False\n",
      "True\n",
      "True\n",
      "True\n"
     ]
    }
   ],
   "source": [
    "print( 1 > 2 )\n",
    "print( 2 > 1 )\n",
    "print( 2 >= 1 )\n",
    "print( 2 >=0b10 ) # binary 2"
   ]
  },
  {
   "cell_type": "markdown",
   "metadata": {},
   "source": [
    "### Operador Menor Que  ( < ) e Menor igual a ( <= )\n"
   ]
  },
  {
   "cell_type": "code",
   "execution_count": 5,
   "metadata": {},
   "outputs": [
    {
     "name": "stdout",
     "output_type": "stream",
     "text": [
      "True\n",
      "False\n",
      "False\n",
      "True\n"
     ]
    }
   ],
   "source": [
    "print( 1 < 2 )\n",
    "print( 2 < 1 )\n",
    "print( 2 <= 1 )\n",
    "print( 2 <=0b10 ) # binary 2"
   ]
  },
  {
   "cell_type": "markdown",
   "metadata": {},
   "source": [
    "#### Atualizando a lista de prioridades de operadores\n",
    "| Seq | Operador | Descrição |\n",
    "| - | - | - |\n",
    "| 1 | ** | Exponenciação |\n",
    "| 2 | + , -| Unários Sinal |\n",
    "| 3 | * , / , // , % | Multiplicação, Divisão e Resto |\n",
    "| 4 | + , - | Soma e Subtração\n",
    "| 5 | > , >= , < , <= | Maior, Maior Igual, Menor e Menor Igual|\n",
    "| 6 | == , != | Igualdade e Diferença | "
   ]
  },
  {
   "cell_type": "markdown",
   "metadata": {},
   "source": [
    "### Instrução if ( Se )\n",
    "sintaxe:\n",
    "\n",
    "if condição_verdade:\n",
    "    comando_a_ser_executato1()\n",
    "    comando_a_ser_executato2()\n",
    "if comando2:\n",
    "    comando_03()\n",
    "\n"
   ]
  },
  {
   "cell_type": "code",
   "execution_count": 7,
   "metadata": {},
   "outputs": [
    {
     "name": "stdout",
     "output_type": "stream",
     "text": [
      "Fim do programa\n"
     ]
    }
   ],
   "source": [
    "idade= int(input(\"Digite sua idade: \"))\n",
    "if idade >= 18:\n",
    "    print(\"Você é maior de idade\")\n",
    "    print(\"Vocé pode dirigir, se habilitado\")\n",
    "print(\"Fim do programa\")\n"
   ]
  },
  {
   "cell_type": "markdown",
   "metadata": {},
   "source": [
    "### Instrução else"
   ]
  },
  {
   "cell_type": "code",
   "execution_count": 21,
   "metadata": {},
   "outputs": [
    {
     "name": "stdout",
     "output_type": "stream",
     "text": [
      "Você é maior de idade\n",
      "Vocé pode dirigir, se habilitado\n",
      "Fim do Programa\n"
     ]
    }
   ],
   "source": [
    "idade= int(input(\"Digite sua idade: \"))\n",
    "if idade >= 18:\n",
    "    print(\"Você é maior de idade\")\n",
    "    print(\"Vocé pode dirigir, se habilitado\")\n",
    "  \n",
    "\n",
    "else:\n",
    "    print(\"Você é manor de idade\")\n",
    "    print(\"Você não pode dirigir!\")\n",
    "\n",
    "print(\"Fim do Programa\")\n",
    "\n"
   ]
  },
  {
   "cell_type": "code",
   "execution_count": null,
   "metadata": {},
   "outputs": [
    {
     "name": "stdout",
     "output_type": "stream",
     "text": [
      "Você é maior de idade\n",
      "Vocé pode dirigir, se habilitado\n",
      "Vocêdeve fazer exames médicos a cada 2 anos!\n",
      "Fim do Programa\n"
     ]
    }
   ],
   "source": [
    "idade= int(input(\"Digite sua idade: \"))\n",
    "if idade >= 18:\n",
    "    print(\"Você é maior de idade\")\n",
    "    print(\"Vocé pode dirigir, se habilitado\")\n",
    "    if idade >= 70:\n",
    "        print(\"Você deve fazer exames médicos anuais!\")\n",
    "\n",
    "    else:\n",
    "        if idade >=65:\n",
    "            print(\"Vocêdeve fazer exames médicos a cada 2 anos!\")\n",
    "else:\n",
    "    print(\"Você é manor de idade\")\n",
    "    print(\"Você não pode dirigir!\")\n",
    "\n",
    "print(\"Fim do Programa\")"
   ]
  },
  {
   "cell_type": "markdown",
   "metadata": {},
   "source": [
    "### Instrução elif"
   ]
  },
  {
   "cell_type": "code",
   "execution_count": 40,
   "metadata": {},
   "outputs": [
    {
     "name": "stdout",
     "output_type": "stream",
     "text": [
      "Você é menor de idade!\n"
     ]
    }
   ],
   "source": [
    "idade= int(input(\"Digite sua idade: \"))\n",
    "\n",
    "if idade >= 70:\n",
    "    print(\"Você é maior de idade\")\n",
    "    print(\"Vocé pode dirigir, se habilitado\")\n",
    "    print(\"Você deve fazer exames médicos anuais!\")\n",
    "\n",
    "elif idade >=65:\n",
    "    print(\"Você é maior de idade\")\n",
    "    print(\"Vocé pode dirigir, se habilitado\")\n",
    "    print(\"Vocêdeve fazer exames médicos a cada 2 anos!\")\n",
    "\n",
    "elif idade >=18:\n",
    "    print(\"Você é maior de idade\")\n",
    "    print(\"Vocé pode dirigir, se habilitado\")\n",
    "\n",
    "else:\n",
    "    print(\"Você é menor de idade!\")\n",
    "\n",
    "\n"
   ]
  },
  {
   "cell_type": "code",
   "execution_count": 35,
   "metadata": {},
   "outputs": [
    {
     "name": "stdout",
     "output_type": "stream",
     "text": [
      "O maior numero é:  2\n"
     ]
    }
   ],
   "source": [
    "# Obtendo o maior número entre dois números\n",
    "num1 = int(input(\"Digite o primeiro numero: \"))\n",
    "num2 = int(input(\"Digite o segundo numero: \"))\n",
    "maior = num1\n",
    "\n",
    "if num2 > maior:\n",
    "    maior = num2\n",
    "print(\"O maior numero é: \" ,maior,)"
   ]
  },
  {
   "cell_type": "code",
   "execution_count": 39,
   "metadata": {},
   "outputs": [
    {
     "name": "stdout",
     "output_type": "stream",
     "text": [
      "O maior numero é:  3\n"
     ]
    }
   ],
   "source": [
    "# Obtendo o maior número entre três números\n",
    "num1 = int(input(\"Digite o primeiro numero: \"))\n",
    "num2 = int(input(\"Digite o segundo numero: \"))\n",
    "num3 = int(input(\"Digite o segundo numero: \"))\n",
    "maior = num1\n",
    "\n",
    "if num2 > maior:\n",
    "    maior = num2\n",
    "if num3 > maior:\n",
    "    maior = num3\n",
    "print(\"O maior numero é: \" ,maior,)"
   ]
  }
 ],
 "metadata": {
  "kernelspec": {
   "display_name": ".venv",
   "language": "python",
   "name": "python3"
  },
  "language_info": {
   "codemirror_mode": {
    "name": "ipython",
    "version": 3
   },
   "file_extension": ".py",
   "mimetype": "text/x-python",
   "name": "python",
   "nbconvert_exporter": "python",
   "pygments_lexer": "ipython3",
   "version": "3.13.2"
  }
 },
 "nbformat": 4,
 "nbformat_minor": 2
}
