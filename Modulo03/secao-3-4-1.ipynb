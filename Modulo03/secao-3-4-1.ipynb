{
 "cells": [
  {
   "cell_type": "markdown",
   "metadata": {},
   "source": [
    "# 3.4.1 Listas "
   ]
  },
  {
   "cell_type": "code",
   "execution_count": 28,
   "metadata": {},
   "outputs": [
    {
     "name": "stdout",
     "output_type": "stream",
     "text": [
      "       3\n",
      "[1, 2, 3, 4, 5, 6]\n",
      "       9\n",
      "[1, 2, 9, 4, 5, 6]\n",
      "6\n",
      "[1, 2, 9, 4, 6]\n"
     ]
    }
   ],
   "source": [
    "# Representando uma lista \n",
    "lista = [1, 2, 3, 4, 5, 6] # O inice sempre começa do zero\n",
    "#indice 0, 1, 2, 3, 4, 5 - começa em zero \n",
    "print(\"      \",lista[2])\n",
    "print(lista) \n",
    "lista[2] = 9 \n",
    "print(\"      \",lista[2]) # alterei o item da posição 2\n",
    "print(lista) \n",
    "\n",
    "##############\n",
    "\n",
    "print(len(lista)) # retorna o tamanho  da lista, ou seja 6 itens \n",
    "\n",
    "del lista[4] #removeu o numero 5\n",
    "print(lista) \n"
   ]
  },
  {
   "cell_type": "code",
   "execution_count": null,
   "metadata": {},
   "outputs": [
    {
     "name": "stdout",
     "output_type": "stream",
     "text": [
      "5\n",
      "4\n"
     ]
    },
    {
     "ename": "IndexError",
     "evalue": "list index out of range",
     "output_type": "error",
     "traceback": [
      "\u001b[31m---------------------------------------------------------------------------\u001b[39m",
      "\u001b[31mIndexError\u001b[39m                                Traceback (most recent call last)",
      "\u001b[36mCell\u001b[39m\u001b[36m \u001b[39m\u001b[32mIn[44]\u001b[39m\u001b[32m, line 6\u001b[39m\n\u001b[32m      4\u001b[39m \u001b[38;5;28mprint\u001b[39m(lista[-\u001b[32m1\u001b[39m])\n\u001b[32m      5\u001b[39m \u001b[38;5;28mprint\u001b[39m(lista[-\u001b[32m2\u001b[39m])\n\u001b[32m----> \u001b[39m\u001b[32m6\u001b[39m \u001b[38;5;28mprint\u001b[39m(\u001b[43mlista\u001b[49m\u001b[43m[\u001b[49m\u001b[43m(\u001b[49m\u001b[43m~\u001b[49m\u001b[38;5;28;43mlen\u001b[39;49m\u001b[43m(\u001b[49m\u001b[43mlista\u001b[49m\u001b[43m)\u001b[49m\u001b[43m-\u001b[49m\u001b[32;43m1\u001b[39;49m\u001b[43m)\u001b[49m\u001b[43m]\u001b[49m)\n\u001b[32m      7\u001b[39m \u001b[38;5;28mprint\u001b[39m([\u001b[38;5;28mlen\u001b[39m(lista)-\u001b[32m1\u001b[39m])\n",
      "\u001b[31mIndexError\u001b[39m: list index out of range"
     ]
    }
   ],
   "source": [
    "# Acessando elementos com indice negativo \n",
    "\n",
    "lista = [1, 2, 3, 4, 5]\n",
    "print(lista[-1])\n",
    "print(lista[-2])\n",
    "print(lista[(~len(lista)-1)]) # ~len é por exemplo 5+1=6 porem negativo, ou seja -6\n",
    "print([len(lista)-1])"
   ]
  },
  {
   "cell_type": "markdown",
   "metadata": {},
   "source": [
    "#### Funções x Métodos \n",
    "\n",
    "Exemplos de função: len(), min(), max (),printi()\n",
    "Métodos é um pouco diferente....\n",
    "objeto.metodo()\n",
    "Exemplos de métodos:\n",
    "lista = [1,2,3,4,5]\n",
    "lista.append (6) <- isso adiciona o numero 6 para a lista no final "
   ]
  },
  {
   "cell_type": "code",
   "execution_count": 37,
   "metadata": {},
   "outputs": [
    {
     "name": "stdout",
     "output_type": "stream",
     "text": [
      "[1, 2, 3, 4, 5, 6]\n",
      "['__add__', '__class__', '__class_getitem__', '__contains__', '__delattr__', '__delitem__', '__dir__', '__doc__', '__eq__', '__format__', '__ge__', '__getattribute__', '__getitem__', '__getstate__', '__gt__', '__hash__', '__iadd__', '__imul__', '__init__', '__init_subclass__', '__iter__', '__le__', '__len__', '__lt__', '__mul__', '__ne__', '__new__', '__reduce__', '__reduce_ex__', '__repr__', '__reversed__', '__rmul__', '__setattr__', '__setitem__', '__sizeof__', '__str__', '__subclasshook__', 'append', 'clear', 'copy', 'count', 'extend', 'index', 'insert', 'pop', 'remove', 'reverse', 'sort']\n",
      "[1, 2, 3, 9, 4, 5, 6]\n"
     ]
    }
   ],
   "source": [
    "lista = [1,2,3,4,5]\n",
    "lista.append (6) # isso adiciona o numero 6 para a lista no final \n",
    "print(lista)\n",
    "print(dir(lista)) # mostra todas as propriedades da lista\n",
    "lista.insert(3,9) #colocando o valor 9 no 3\n",
    "print(lista)"
   ]
  },
  {
   "cell_type": "code",
   "execution_count": 49,
   "metadata": {},
   "outputs": [
    {
     "name": "stdout",
     "output_type": "stream",
     "text": [
      "indice: 0 valor: 9\n",
      "indice: 1 valor: 2\n",
      "indice: 2 valor: 3\n",
      "indice: 3 valor: 4\n",
      "indice: 4 valor: 5\n",
      "fim do programa\n"
     ]
    }
   ],
   "source": [
    "# usando for em listas\n",
    "lista = [9,2,3,4,5]\n",
    "for i in range(len(lista)):\n",
    "    print(\"indice:\" ,i, \"valor:\",lista[i])\n",
    "print(\"fim do programa\")"
   ]
  },
  {
   "cell_type": "code",
   "execution_count": 48,
   "metadata": {},
   "outputs": [
    {
     "name": "stdout",
     "output_type": "stream",
     "text": [
      "valor: 4\n",
      "valor: 2\n",
      "valor: 3\n",
      "valor: 4\n",
      "valor: 5\n",
      "fim do programa\n"
     ]
    }
   ],
   "source": [
    "# usando for em listas pelo valor\n",
    "lista = [4,2,3,4,5]\n",
    "for el in lista:\n",
    "    print(\"valor:\" ,el)\n",
    "print(\"fim do programa\")"
   ]
  },
  {
   "cell_type": "code",
   "execution_count": null,
   "metadata": {},
   "outputs": [
    {
     "name": "stdout",
     "output_type": "stream",
     "text": [
      "[10, 9, 8, 7, 6, 5, 4, 3, 2, 1]\n"
     ]
    }
   ],
   "source": [
    "# Permuta de elementos           #len significa: quantidade total de elementos da lista\n",
    "\n",
    "lista = [1,2,3,4,5,6,7,8,9,10]\n",
    "#reverse da lista\n",
    "for i in range(len(lista)//2): # enquanto  \"i\"  estiver dentro da quantidade de elementos da lista divido por 2, ou seja, metado da quantidade de elementos da lista faça:\n",
    "    lista[i],lista[~i] = lista[~i], lista[i]\n",
    "print(lista)"
   ]
  },
  {
   "cell_type": "code",
   "execution_count": 73,
   "metadata": {},
   "outputs": [
    {
     "name": "stdout",
     "output_type": "stream",
     "text": [
      "6\n",
      "[1, [2, 7]]\n",
      "7\n"
     ]
    }
   ],
   "source": [
    "lista = [ 1, 2.5, \"olá\", [1,2,6], [1,[2,7]], True]\n",
    "print(lista[3][2]) # mostre o terceiro elemento da lista e o segundo elemento da lista\n",
    "print(lista[4])\n",
    "print(lista [4][1][1])\n",
    "\n"
   ]
  }
 ],
 "metadata": {
  "kernelspec": {
   "display_name": ".venv",
   "language": "python",
   "name": "python3"
  },
  "language_info": {
   "codemirror_mode": {
    "name": "ipython",
    "version": 3
   },
   "file_extension": ".py",
   "mimetype": "text/x-python",
   "name": "python",
   "nbconvert_exporter": "python",
   "pygments_lexer": "ipython3",
   "version": "3.13.2"
  }
 },
 "nbformat": 4,
 "nbformat_minor": 2
}
