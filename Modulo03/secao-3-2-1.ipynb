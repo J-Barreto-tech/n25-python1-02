{
 "cells": [
  {
   "cell_type": "markdown",
   "metadata": {},
   "source": [
    "# Loops \n",
    "\n",
    "### Laço While "
   ]
  },
  {
   "cell_type": "code",
   "execution_count": null,
   "metadata": {},
   "outputs": [
    {
     "name": "stdout",
     "output_type": "stream",
     "text": [
      "Teste...\n"
     ]
    }
   ],
   "source": [
    "# while = Enquanto\n",
    "\n",
    "#Exemplo de laço infinito \n",
    "\n",
    "while True: #condição se verdade permanece no laço\n",
    "    print(\"Teste...\")\n",
    "    break"
   ]
  },
  {
   "cell_type": "code",
   "execution_count": 9,
   "metadata": {},
   "outputs": [
    {
     "name": "stdout",
     "output_type": "stream",
     "text": [
      "O maior valor digitado foi 20\n"
     ]
    }
   ],
   "source": [
    "# Exemplo para testar maior valor \n",
    "# Usuario vai digitar os valores até o valor ser -1\n",
    "\n",
    "maior = -999_999_999_999\n",
    "valor = int(input(\"Digite valor (-1= fim): \"))\n",
    "while valor != -1:\n",
    "    if valor > maior:\n",
    "        maior = valor\n",
    "    valor = int(input(\"Digite valor (-1= fim): \"))\n",
    "if maior > -999_999_999_999:\n",
    "    print(\"O maior valor digitado foi\" , maior)\n",
    "else: \n",
    "    print(\"Não houve digitaçõa devalores !\")"
   ]
  },
  {
   "cell_type": "code",
   "execution_count": 11,
   "metadata": {},
   "outputs": [
    {
     "name": "stdout",
     "output_type": "stream",
     "text": [
      "pares: 3 Impares: 1\n"
     ]
    }
   ],
   "source": [
    "# Solicitar ao usuario a digitção de valor, se -1 encerrar \n",
    "# Contar quantos pares e quantos impares foram digitados \n",
    "\n",
    "par, impar = 0,0\n",
    "num = int(input(\"Digite um numero (-1 +fim): \"))\n",
    "while num != -1:\n",
    "    if num % 2 == 0: # par\n",
    "        par += 1 # par = par + 1\n",
    "    else:\n",
    "        impar += 1 # impar = impar + 1\n",
    "    num = int(input (\"Digite um numero (-1 = fim):\"))\n",
    "print (\"pares:\", par, \"Impares:\" , impar)\n",
    "\n",
    " \n",
    "    "
   ]
  },
  {
   "cell_type": "code",
   "execution_count": 12,
   "metadata": {},
   "outputs": [
    {
     "name": "stdout",
     "output_type": "stream",
     "text": [
      "0\n",
      "1\n",
      "2\n",
      "3\n",
      "4\n",
      "5\n",
      "6\n",
      "7\n",
      "8\n",
      "9\n",
      "Fim do programa\n"
     ]
    }
   ],
   "source": [
    "contador = 0\n",
    "while contador < 10:\n",
    "    print(contador)\n",
    "    contador += 1\n",
    "print(\"Fim do programa\")"
   ]
  },
  {
   "cell_type": "markdown",
   "metadata": {},
   "source": [
    "### Laço  for \n"
   ]
  },
  {
   "cell_type": "code",
   "execution_count": 16,
   "metadata": {},
   "outputs": [
    {
     "name": "stdout",
     "output_type": "stream",
     "text": [
      "0\n",
      "1\n",
      "2\n",
      "3\n",
      "4\n",
      "5\n",
      "6\n",
      "7\n",
      "8\n",
      "9\n",
      "Fim do programa !\n"
     ]
    }
   ],
   "source": [
    "for contador in range (10):  #considerara o inicio\n",
    "    print (contador)\n",
    "print(\"Fim do programa !\")"
   ]
  },
  {
   "cell_type": "markdown",
   "metadata": {},
   "source": [
    "### Range com 2 parametros (inicio, fim)"
   ]
  },
  {
   "cell_type": "code",
   "execution_count": 20,
   "metadata": {},
   "outputs": [
    {
     "name": "stdout",
     "output_type": "stream",
     "text": [
      "1\n",
      "2\n",
      "3\n",
      "4\n",
      "Fim do programam\n"
     ]
    }
   ],
   "source": [
    "for contador in range (1,5):  # o 5 não entra\n",
    "    print(contador)\n",
    "print(\"Fim do programam\")\n",
    "\n"
   ]
  },
  {
   "cell_type": "markdown",
   "metadata": {},
   "source": [
    "### Range com 3 parametros (inicio, fim, passo)"
   ]
  },
  {
   "cell_type": "code",
   "execution_count": 22,
   "metadata": {},
   "outputs": [
    {
     "name": "stdout",
     "output_type": "stream",
     "text": [
      "0\n",
      "3\n",
      "6\n",
      "9\n",
      "Fim do Programa !\n"
     ]
    }
   ],
   "source": [
    "for contador in range (0, 10, 3):\n",
    "    print(contador)\n",
    "print(\"Fim do Programa !\")"
   ]
  },
  {
   "cell_type": "code",
   "execution_count": 27,
   "metadata": {},
   "outputs": [
    {
     "name": "stdout",
     "output_type": "stream",
     "text": [
      "Fim do Programa ! 9\n"
     ]
    }
   ],
   "source": [
    "# For interessante\n",
    "contador = 9\n",
    "for contador in range (1,1):\n",
    "    print(contador)\n",
    "print(\"Fim do Programa !\", contador)"
   ]
  },
  {
   "cell_type": "code",
   "execution_count": null,
   "metadata": {},
   "outputs": [
    {
     "name": "stdout",
     "output_type": "stream",
     "text": [
      "10\n",
      "9\n",
      "8\n",
      "7\n",
      "6\n",
      "5\n",
      "4\n",
      "3\n",
      "2\n",
      "1\n",
      "Fim do progrma\n"
     ]
    }
   ],
   "source": [
    "# desafio \n",
    "for contador in range(10,0,-1): #Imprimir do 10 ao 1 mexe no passo, com sendo -1 para decrementar\n",
    "    print (contador)\n",
    "print(\"Fim do progrma\")"
   ]
  },
  {
   "cell_type": "code",
   "execution_count": 33,
   "metadata": {},
   "outputs": [
    {
     "name": "stdout",
     "output_type": "stream",
     "text": [
      "1 mississippi\n",
      "2 mississippi\n",
      "3 mississippi\n",
      "4 mississippi\n",
      "5 mississippi\n",
      "Pronto ou não, aqui vou eu !!\n"
     ]
    }
   ],
   "source": [
    "# Lab 3.2.7\n",
    "\n",
    "import time\n",
    "\n",
    "# Escreva um loop for que conte até cinco\n",
    "   # Corpo do loop - exiba o número de iteração do loop e a palavra \"Mississippi\".\n",
    "   # Corpo do loop - use: time.sleep(1)\n",
    "\n",
    "# Escreva uma função print com a mensagem final.\n",
    "\n",
    "for i in range (1,6):\n",
    "    print(i, \"mississippi\")\n",
    "    time.sleep(1)\n",
    "print(\"Pronto ou não, aqui vou eu !!\")"
   ]
  },
  {
   "cell_type": "markdown",
   "metadata": {},
   "source": [
    "### Instrução break e continue "
   ]
  },
  {
   "cell_type": "code",
   "execution_count": 35,
   "metadata": {},
   "outputs": [
    {
     "name": "stdout",
     "output_type": "stream",
     "text": [
      "0\n",
      "1\n",
      "2\n",
      "Fm do programa\n"
     ]
    }
   ],
   "source": [
    "contador = 0 \n",
    "while contador < 10: \n",
    "    print (contador)\n",
    "    contador +=1\n",
    "    if contador == 3:\n",
    "        break\n",
    "print(\"Fm do programa\")"
   ]
  },
  {
   "cell_type": "code",
   "execution_count": null,
   "metadata": {},
   "outputs": [
    {
     "name": "stdout",
     "output_type": "stream",
     "text": [
      "1\n",
      "2\n",
      "4\n",
      "5\n",
      "6\n",
      "7\n",
      "8\n",
      "9\n",
      "10\n",
      "Fm do programa\n"
     ]
    }
   ],
   "source": [
    "contador = 0 \n",
    "while contador < 10: \n",
    "    contador += 1\n",
    "    if contador == 3:\n",
    "        continue # quando o contador der 3 ele força voltar para o while e não printar \n",
    "    print(contador)\n",
    "print(\"Fm do programa\")\n"
   ]
  },
  {
   "cell_type": "code",
   "execution_count": 40,
   "metadata": {},
   "outputs": [
    {
     "name": "stdout",
     "output_type": "stream",
     "text": [
      "o-t-o-r-r-i-n-o-l-a-r-i-n-g-o-l-o-g-i-s-t-a-\n",
      "FIm do programa\n",
      "atsigologniralonirroto\n"
     ]
    }
   ],
   "source": [
    "# Exemplo intesante do for \n",
    "\n",
    "palavra = \"otorrinolaringologista\"\n",
    "for letra in palavra:\n",
    "    print(letra, end=\"-\")\n",
    "print(\"\\nFIm do programa\")\n",
    "# invertendo a palavra \n",
    "pal_inv=\"\"\n",
    "for letra in palavra:\n",
    "    pal_inv = letra + pal_inv\n",
    "print(pal_inv)"
   ]
  }
 ],
 "metadata": {
  "kernelspec": {
   "display_name": ".venv",
   "language": "python",
   "name": "python3"
  },
  "language_info": {
   "codemirror_mode": {
    "name": "ipython",
    "version": 3
   },
   "file_extension": ".py",
   "mimetype": "text/x-python",
   "name": "python",
   "nbconvert_exporter": "python",
   "pygments_lexer": "ipython3",
   "version": "3.13.2"
  }
 },
 "nbformat": 4,
 "nbformat_minor": 2
}
