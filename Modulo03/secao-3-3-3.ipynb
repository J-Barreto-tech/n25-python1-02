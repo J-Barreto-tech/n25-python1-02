{
 "cells": [
  {
   "cell_type": "markdown",
   "metadata": {},
   "source": [
    "# 3.3 Lógica e Operadores bit-a-bit\n",
    "### Operadores lógicos and, or e not\n",
    "\n",
    "| A | B | A and B | A or B | not A |\n",
    "| - | - | :-: |:-:| :-: |\n",
    "| True | True | True | True | False |\n",
    "| True | False | False | True | False |\n",
    "| False | True | False | True | True |\n",
    "|False |False |False |False |True |"
   ]
  },
  {
   "cell_type": "code",
   "execution_count": null,
   "metadata": {},
   "outputs": [
    {
     "name": "stdout",
     "output_type": "stream",
     "text": [
      "Pode dirigir sem restrição, desde com carteira.\n",
      "Idade invalida!\n",
      "Idade invalida!\n"
     ]
    }
   ],
   "source": [
    "idade = 19\n",
    "if idade>=18 and idade<=60:\n",
    "    print(\"Pode dirigir sem restrição, desde com carteira.\")\n",
    "idade = 10 \n",
    "while idade<18 or idade>60:\n",
    "    idade = int(input(\"Digite uma idade entre 18 e 60: \"))\n",
    "    if idade<18 or idade>60: print(\"Idade invalida!\")\n",
    "#Só vai sair do laço com uma idade entre 18 e 60\n"
   ]
  },
  {
   "cell_type": "code",
   "execution_count": null,
   "metadata": {},
   "outputs": [],
   "source": [
    "idade = 19\n",
    "if idade>=18 and idade<=60:\n",
    "    print(\"Pode dirigir sem restrição, desde com carteira.\")\n",
    "idade = 10 \n",
    "while idade<18 or idade>60:\n",
    "    idade = int(input(\"Digite uma idade entre 18 e 60: \"))\n",
    "    if not idade<18 or idade>60: print(\"Idade invalida!\")"
   ]
  },
  {
   "cell_type": "code",
   "execution_count": null,
   "metadata": {},
   "outputs": [],
   "source": [
    "idade = int(input(\"Digite uma idade maior que zero\"))\n",
    "if not idade:\n",
    "    print(\"Idade invalida\")"
   ]
  },
  {
   "cell_type": "markdown",
   "metadata": {},
   "source": [
    "### Operador Bit a bit\n",
    "#### Operador com conjunçõa (&) ou  and bit-a-bit\n",
    "\n",
    "2 & 3 = 2 \n",
    "2 10  &\n",
    "3 11 \n",
    "------\n",
    "2 10"
   ]
  },
  {
   "cell_type": "code",
   "execution_count": 15,
   "metadata": {},
   "outputs": [
    {
     "name": "stdout",
     "output_type": "stream",
     "text": [
      "5 0101\n",
      "7 0111 &\n",
      "-------\n",
      "5 0101\n"
     ]
    }
   ],
   "source": [
    "a = 5\n",
    "b = 7\n",
    "print(a,f\"{a:04b}\")\n",
    "print(b,f\"{b:04b}\",\"&\")\n",
    "print(\"-\"*7)\n",
    "print(a&b,f\"{(a&b):04b}\")\n"
   ]
  },
  {
   "cell_type": "markdown",
   "metadata": {},
   "source": [
    "#### Operador Disjunção (|) ou  or bit-a-bit\n",
    "\n",
    "5 0101\n",
    "7 0111   |\n",
    "---\n",
    "5 0111"
   ]
  },
  {
   "cell_type": "code",
   "execution_count": 17,
   "metadata": {},
   "outputs": [
    {
     "name": "stdout",
     "output_type": "stream",
     "text": [
      "5 0101\n",
      "7 0111 |\n",
      "-------\n",
      "7 0111\n"
     ]
    }
   ],
   "source": [
    "a = 5\n",
    "b = 7\n",
    "print(a,f\"{a:04b}\")\n",
    "print(b,f\"{b:04b}\",\"|\")\n",
    "print(\"-\"*7)\n",
    "print(a|b,f\"{(a|b):04b}\")"
   ]
  },
  {
   "cell_type": "markdown",
   "metadata": {},
   "source": [
    "#### Operador xor (^) ou or exclusivo  bit-a-bit\n",
    "\n",
    "5 0101\n",
    "7 0111 ^\n",
    "------\n",
    "2 0010"
   ]
  },
  {
   "cell_type": "code",
   "execution_count": 18,
   "metadata": {},
   "outputs": [
    {
     "name": "stdout",
     "output_type": "stream",
     "text": [
      "5 0101\n",
      "7 0111 ^\n",
      "-------\n",
      "2 0010\n"
     ]
    }
   ],
   "source": [
    "a = 5\n",
    "b = 7\n",
    "print(a,f\"{a:04b}\")\n",
    "print(b,f\"{b:04b}\",\"^\")\n",
    "print(\"-\"*7)\n",
    "print(a^b,f\"{(a^b):04b}\")"
   ]
  },
  {
   "cell_type": "markdown",
   "metadata": {},
   "source": [
    "#### Complemento (~) \n",
    "\n",
    "~5 = -6"
   ]
  },
  {
   "cell_type": "code",
   "execution_count": null,
   "metadata": {},
   "outputs": [
    {
     "name": "stdout",
     "output_type": "stream",
     "text": [
      "-6\n",
      "5\n"
     ]
    }
   ],
   "source": [
    "print(~5) # Sempre um numero acima com sinal invertido \n",
    "print(~-6) # Sera 5 pois é maior que menos 6 "
   ]
  },
  {
   "cell_type": "markdown",
   "metadata": {},
   "source": [
    "#### Deslocamento de Bit para esquerda (<<)\n",
    "\n",
    "1 << 2 resulta em 4 (100 binario)\n",
    "\n",
    "5 << 3 resulta em 40 (0100) - seria 5 x 2^3 = 40\n",
    "\n"
   ]
  },
  {
   "cell_type": "code",
   "execution_count": null,
   "metadata": {},
   "outputs": [
    {
     "name": "stdout",
     "output_type": "stream",
     "text": [
      "4 0100\n",
      "40 101000\n"
     ]
    }
   ],
   "source": [
    "print( 1 << 2, f\"{(1<<2):004b}\")\n",
    "#######\n",
    "print( 5 << 3, f\"{(5<<3):04b}\") # 5 x 2^3 = 40"
   ]
  },
  {
   "cell_type": "markdown",
   "metadata": {},
   "source": [
    "#### Deslocamento de Bit para direita (>>)\n",
    "\n",
    "5 >> 2 resulta em 1\n",
    "0101 resulta em 01"
   ]
  },
  {
   "cell_type": "code",
   "execution_count": 28,
   "metadata": {},
   "outputs": [
    {
     "name": "stdout",
     "output_type": "stream",
     "text": [
      "1 0001\n"
     ]
    }
   ],
   "source": [
    "print( 5 >> 2, f\"{(5 >> 2):04b}\") # "
   ]
  },
  {
   "cell_type": "markdown",
   "metadata": {},
   "source": [
    "#### Atualizando a tabela de precedência de operadores \n",
    "| Seq | Operador | Descrição |\n",
    "| - | - | - |\n",
    "| 1 | ** | Exponenciação |\n",
    "| 2 | + , - , ~ | Operadores Unários e Complemento|\n",
    "| 3 | * , / , // , % | Multiplicação, Divisão, Divisão Inteira e Resto |\n",
    "| 4 | + , - | Soma e Subtração\n",
    "| 5 | << , >> | Deslocamento de Bits |\n",
    "| 6 | & | Conjunção\n",
    "| 7 | \\| | Disjunção\n",
    "| 8 | > , >= , < , <= , == , != |Operadores Relacionais -  Maior, Maior Igual, Menor e Menor Igual, Igualdade e Diferença ||\n",
    "| 9 | not | Operador de negação |\n",
    "| 10 | and | Operador and |\n",
    "| 11 | or | Operador or |\n",
    "| 12 | += , -= , *= , ... | Operadores de Atalho |\n",
    "\n",
    " "
   ]
  },
  {
   "cell_type": "markdown",
   "metadata": {},
   "source": [
    "\n",
    "\n"
   ]
  }
 ],
 "metadata": {
  "kernelspec": {
   "display_name": ".venv",
   "language": "python",
   "name": "python3"
  },
  "language_info": {
   "codemirror_mode": {
    "name": "ipython",
    "version": 3
   },
   "file_extension": ".py",
   "mimetype": "text/x-python",
   "name": "python",
   "nbconvert_exporter": "python",
   "pygments_lexer": "ipython3",
   "version": "3.13.2"
  }
 },
 "nbformat": 4,
 "nbformat_minor": 2
}
