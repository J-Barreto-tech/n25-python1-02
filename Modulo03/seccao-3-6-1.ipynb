{
 "cells": [
  {
   "cell_type": "markdown",
   "metadata": {},
   "source": [
    "# 3.6.1 - Operações com Lista \n",
    "\n",
    "### Fatiamento"
   ]
  },
  {
   "cell_type": "code",
   "execution_count": 5,
   "metadata": {},
   "outputs": [
    {
     "name": "stdout",
     "output_type": "stream",
     "text": [
      "20 15\n",
      "140729450759688 140729450759528\n"
     ]
    }
   ],
   "source": [
    "#Operações com valores\n",
    "\n",
    "item1=10\n",
    "item2=20\n",
    "item1= item2\n",
    "item2 = 15\n",
    "print(item1, item2)\n",
    "print(id(item1), id(item2)) #endereço da memoria"
   ]
  },
  {
   "cell_type": "code",
   "execution_count": null,
   "metadata": {},
   "outputs": [
    {
     "name": "stdout",
     "output_type": "stream",
     "text": [
      "[1, 2, 3, 4]\n",
      "2734891516352 2734891516352\n"
     ]
    }
   ],
   "source": [
    "#Operações com lista\n",
    "\n",
    "lista1 = [1, 2, 3]\n",
    "lista2=lista1\n",
    "lista2.append(4) # atribuindo o elemento 4 na minha lista, ele vai entrar depois do ultimo elemento da lista\n",
    "print(lista1)\n",
    "print(id(lista1), id(lista2)) # id =endereço da memoria"
   ]
  },
  {
   "cell_type": "code",
   "execution_count": null,
   "metadata": {},
   "outputs": [
    {
     "name": "stdout",
     "output_type": "stream",
     "text": [
      "[4, 6]\n",
      "[2, 4, 6]\n",
      "[4, 6, 8, 9]\n",
      "[2, 4, 6, 8, 9]\n",
      "[4, 6]\n"
     ]
    }
   ],
   "source": [
    "# Fatiamento\n",
    "#        0, 1, 2, 3, 4 - elementos da lista \n",
    "#       -5 -4 -3 -2 -1  elementos negativos da lista\n",
    "lista = [2, 4, 6, 8, 9]\n",
    "print(lista[1:3]    ) # pega o elemento 1 mas não pega o elemento 3\n",
    "print(lista[:3]    ) # pega o primeito elemento mas não pega o elemento 3\n",
    "print(lista[1:]    ) # pega o primeito elemento ao ultimo\n",
    "print(lista[:]    ) # pega todos\n",
    "print(lista[1:-2]) \n"
   ]
  },
  {
   "cell_type": "code",
   "execution_count": 22,
   "metadata": {},
   "outputs": [
    {
     "name": "stdout",
     "output_type": "stream",
     "text": [
      "[1, 2, 3, 4] 2734891668736\n",
      "[1, 2, 3, 4, 5] 2734891675968\n",
      "[1, 4]\n",
      "[1, 2, 3, 4, 5]\n"
     ]
    }
   ],
   "source": [
    "lista1 = [1,2,3,4]\n",
    "lista2 = lista1[:]\n",
    "lista2.append(5)\n",
    "print(lista1, id(lista1))\n",
    "print(lista2, id(lista2))\n",
    "del lista1[1:3]\n",
    "print(lista1)\n",
    "print(lista2)"
   ]
  },
  {
   "cell_type": "markdown",
   "metadata": {},
   "source": [
    "### Operador \"in\" e \"not in\""
   ]
  },
  {
   "cell_type": "code",
   "execution_count": 23,
   "metadata": {},
   "outputs": [
    {
     "name": "stdout",
     "output_type": "stream",
     "text": [
      "True\n",
      "False\n",
      "False\n"
     ]
    }
   ],
   "source": [
    "lista = [7,8,3,2,5]\n",
    "print(5 in lista)\n",
    "print(5 not in lista)\n",
    "print(9 in lista)\n"
   ]
  },
  {
   "cell_type": "code",
   "execution_count": 24,
   "metadata": {},
   "outputs": [
    {
     "name": "stdout",
     "output_type": "stream",
     "text": [
      "cdefghijklmnopqrstuvwx\n"
     ]
    }
   ],
   "source": [
    "# Fatiamento em string\n",
    "\n",
    "testo = \"abcdefghijklmnopqrstuvwxyz\"\n",
    "print(testo[2:-2])"
   ]
  },
  {
   "cell_type": "markdown",
   "metadata": {},
   "source": [
    "### Lab 3.6.6"
   ]
  },
  {
   "cell_type": "code",
   "execution_count": null,
   "metadata": {},
   "outputs": [
    {
     "name": "stdout",
     "output_type": "stream",
     "text": [
      "A lista com os elementos exclusivos aqui:\n",
      "[1, 2, 4, 6, 9]\n"
     ]
    }
   ],
   "source": [
    "\n",
    "\n",
    "my_list = [1, 2, 4, 4, 1, 4, 2, 6, 2, 9]\n",
    "#\n",
    "# Escreva seu código aqui.\n",
    "#\n",
    "apoio=[]\n",
    "for el in my_list: #enquanto a variavel \"al\" (pode ser outro nome tmb) esta em \"my list\", faça\n",
    "    if el not in apoio: # Se varialvel el não esta na lista \"apoio\", faça\n",
    "        apoio.append(el) # incluir \"el\" na lista \"apoio\"\n",
    "my_list = apoio \n",
    "\n",
    "print(\"A lista com os elementos exclusivos aqui:\")\n",
    "print(my_list)"
   ]
  }
 ],
 "metadata": {
  "kernelspec": {
   "display_name": ".venv",
   "language": "python",
   "name": "python3"
  },
  "language_info": {
   "codemirror_mode": {
    "name": "ipython",
    "version": 3
   },
   "file_extension": ".py",
   "mimetype": "text/x-python",
   "name": "python",
   "nbconvert_exporter": "python",
   "pygments_lexer": "ipython3",
   "version": "3.13.2"
  }
 },
 "nbformat": 4,
 "nbformat_minor": 2
}
