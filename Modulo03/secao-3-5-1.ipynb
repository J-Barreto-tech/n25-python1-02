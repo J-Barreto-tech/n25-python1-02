{
 "cells": [
  {
   "cell_type": "markdown",
   "metadata": {},
   "source": [
    "# 3.5.1 - Ordenando lista "
   ]
  },
  {
   "cell_type": "code",
   "execution_count": null,
   "metadata": {},
   "outputs": [
    {
     "name": "stdout",
     "output_type": "stream",
     "text": [
      "Quantidade de trocas por passada: 3\n",
      "Quantidade de trocas por passada: 3\n",
      "Quantidade de trocas por passada: 2\n",
      "Quantidade de trocas por passada: 0\n",
      "[2, 4, 6, 8, 10]\n"
     ]
    }
   ],
   "source": [
    "# Ordenação BubbleSort\n",
    "\n",
    "lista = [8,10,6,2,4]\n",
    "troca = True\n",
    "while troca:         # while é: enquanto verdade faça,ou seja,enquanto \"troca\" for True (verdadeiro) faça\n",
    "    qtde = 0\n",
    "    troca = False\n",
    "    for i in range(len(lista)-1):\n",
    "        if lista[i] > lista[i+1]:\n",
    "           lista[i], lista[i+1] = lista[i+1], lista[i] # permuta\n",
    "           troca = True\n",
    "           qtde += 1\n",
    "    print(\"Quantidade de trocas por passada:\", qtde)\n",
    "print(lista)\n",
    "\n",
    "\n",
    "\n"
   ]
  },
  {
   "cell_type": "code",
   "execution_count": 13,
   "metadata": {},
   "outputs": [
    {
     "name": "stdout",
     "output_type": "stream",
     "text": [
      "[2, 4, 6, 8, 10]\n",
      "[10, 8, 6, 4, 2]\n"
     ]
    }
   ],
   "source": [
    "# Ordenação BubbleSort mais eficiente \n",
    "\n",
    "lista = [8,10,6,2,4]\n",
    "lista.sort() \n",
    "print(lista)\n",
    "\n",
    "#Para reverter a lista\n",
    "lista.reverse()\n",
    "print(lista)\n"
   ]
  }
 ],
 "metadata": {
  "kernelspec": {
   "display_name": ".venv",
   "language": "python",
   "name": "python3"
  },
  "language_info": {
   "codemirror_mode": {
    "name": "ipython",
    "version": 3
   },
   "file_extension": ".py",
   "mimetype": "text/x-python",
   "name": "python",
   "nbconvert_exporter": "python",
   "pygments_lexer": "ipython3",
   "version": "3.13.2"
  }
 },
 "nbformat": 4,
 "nbformat_minor": 2
}
